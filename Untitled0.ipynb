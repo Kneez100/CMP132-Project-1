{
  "nbformat": 4,
  "nbformat_minor": 0,
  "metadata": {
    "colab": {
      "provenance": [],
      "authorship_tag": "ABX9TyMnanwXAxXByqaagvyvSpwY",
      "include_colab_link": true
    },
    "kernelspec": {
      "name": "python3",
      "display_name": "Python 3"
    },
    "language_info": {
      "name": "python"
    }
  },
  "cells": [
    {
      "cell_type": "markdown",
      "metadata": {
        "id": "view-in-github",
        "colab_type": "text"
      },
      "source": [
        "<a href=\"https://colab.research.google.com/github/Kneez100/CMP132-Project-1/blob/main/Untitled0.ipynb\" target=\"_parent\"><img src=\"https://colab.research.google.com/assets/colab-badge.svg\" alt=\"Open In Colab\"/></a>"
      ]
    },
    {
      "cell_type": "code",
      "execution_count": 37,
      "metadata": {
        "colab": {
          "base_uri": "https://localhost:8080/"
        },
        "id": "35_18HDEkasO",
        "outputId": "7a78b404-4f59-409c-9a60-b3bb51b3df56"
      },
      "outputs": [
        {
          "output_type": "stream",
          "name": "stdout",
          "text": [
            "Laptop added to inventory.\n",
            "T-shirt added to inventory.\n",
            "Sale successful.\n",
            "Transaction ID: 1\n",
            "Product: Laptop, Quantity: 2\n",
            "Product: T-shirt, Quantity: 5\n",
            "Total Amount: $2099.93\n"
          ]
        }
      ],
      "source": [
        "class Product:\n",
        "    def __init__(self, product_id, name, category, price, quantity_in_stock):\n",
        "        self.product_id = product_id\n",
        "        self.name = name\n",
        "        self.category = category\n",
        "        self.price = price\n",
        "        self.quantity_in_stock = quantity_in_stock\n",
        "\n",
        "    def display_product_info(self):\n",
        "        print(f\"Product ID: {self.product_id}\")\n",
        "        print(f\"Name: {self.name}\")\n",
        "        print(f\"Category: {self.category}\")\n",
        "        print(f\"Price: ${self.price:.2f}\")\n",
        "        print(f\"Quantity in Stock: {self.quantity_in_stock}\")\n",
        "\n",
        "    def sell(self, quantity):\n",
        "        if self.quantity_in_stock >= quantity:\n",
        "            self.quantity_in_stock -= quantity\n",
        "            return True\n",
        "        else:\n",
        "            print(f\"Insufficient stock for {self.name}.\")\n",
        "            return False\n",
        "\n",
        "    def restock(self, quantity):\n",
        "        self.quantity_in_stock += quantity\n",
        "        print(f\"{quantity} {self.name} restocked. New stock level: {self.quantity_in_stock}\")\n",
        "\n",
        "\n",
        "class Inventory:\n",
        "    def __init__(self):\n",
        "        self.products = {}\n",
        "\n",
        "    def add_product(self, product):\n",
        "        if product.product_id not in self.products:\n",
        "            self.products[product.product_id] = product\n",
        "            print(f\"{product.name} added to inventory.\")\n",
        "        else:\n",
        "            print(f\"{product.name} already exists in inventory.\")\n",
        "\n",
        "    def update_stock(self, product_id, new_quantity):\n",
        "        if product_id in self.products:\n",
        "            self.products[product_id].restock(new_quantity)\n",
        "        else:\n",
        "            print(f\"Product with ID {product_id} not found in inventory.\")\n",
        "\n",
        "    def get_product_info(self, product_id):\n",
        "        if product_id in self.products:\n",
        "            self.products[product_id].display_product_info()\n",
        "        else:\n",
        "            print(f\"Product with ID {product_id} not found in inventory.\")\n",
        "\n",
        "\n",
        "class Transaction:\n",
        "    def __init__(self, transaction_id, products, quantities):\n",
        "        self.transaction_id = transaction_id\n",
        "        self.products = products\n",
        "        self.quantities = quantities\n",
        "\n",
        "    def calculate_total_amount(self):\n",
        "        total_amount = sum(product.price * quantity for product, quantity in zip(self.products, self.quantities))\n",
        "        return total_amount\n",
        "\n",
        "    def make_sale(self):\n",
        "        for product, quantity in zip(self.products, self.quantities):\n",
        "            if not product.sell(quantity):\n",
        "                print(\"Sale canceled due to insufficient stock.\")\n",
        "                return\n",
        "        print(\"Sale successful.\")\n",
        "        print(f\"Transaction ID: {self.transaction_id}\")\n",
        "        for product, quantity in zip(self.products, self.quantities):\n",
        "            print(f\"Product: {product.name}, Quantity: {quantity}\")\n",
        "        print(f\"Total Amount: ${self.calculate_total_amount():.2f}\")\n",
        "\n",
        "\n",
        "# Example usage\n",
        "product1 = Product(1, \"Laptop\", \"Electronics\", 999.99, 10)\n",
        "product2 = Product(2, \"T-shirt\", \"Apparel\", 19.99, 50)\n",
        "\n",
        "inventory = Inventory()\n",
        "inventory.add_product(product1)\n",
        "inventory.add_product(product2)\n",
        "\n",
        "sale1 = Transaction(1, [product1, product2], [2, 5])\n",
        "sale1.make_sale()\n"
      ]
    }
  ]
}